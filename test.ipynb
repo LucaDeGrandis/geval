{
 "cells": [
  {
   "cell_type": "code",
   "execution_count": null,
   "metadata": {},
   "outputs": [],
   "source": [
    "import os\n",
    "os.environ['OPENAI_KEY'] = \"<your openai api key>\""
   ]
  },
  {
   "cell_type": "code",
   "execution_count": 16,
   "metadata": {},
   "outputs": [],
   "source": [
    "%%bash\n",
    "python \"/home/luca/forked_repos/geval/gpt4_eval_prompt_generation.py\" \\\n",
    "--input_prompts \"/home/luca/forked_repos/geval/prompts/summeval_basic\" \\\n",
    "--output_prompts \"/home/luca/forked_repos/geval/prompts/summeval_finance\" \\\n",
    "--document_type \"financial document\" \\\n",
    "--model \"gpt-4\" \\\n",
    "--openai_key $OPENAI_KEY"
   ]
  },
  {
   "cell_type": "code",
   "execution_count": 23,
   "metadata": {},
   "outputs": [
    {
     "name": "stderr",
     "output_type": "stream",
     "text": [
      "100%|██████████| 4/4 [00:00<00:00, 42048.16it/s]\n"
     ]
    }
   ],
   "source": [
    "%%bash\n",
    "python \"/home/luca/forked_repos/geval/gpt4_eval_async.py\" \\\n",
    "--prompt_fp \"/home/luca/forked_repos/geval/prompts/summeval_finance/coh_detailed.txt\" \\\n",
    "--save_fp \"/home/luca/forked_repos/geval/results/coh_detailed.json\" \\\n",
    "--summeval_fp \"/home/luca/forked_repos/geval/data/summeval.json\" \\\n",
    "--key $OPENAI_KEY \\\n",
    "--model \"gpt-4o-2024-05-13\""
   ]
  },
  {
   "cell_type": "code",
   "execution_count": 24,
   "metadata": {},
   "outputs": [
    {
     "name": "stderr",
     "output_type": "stream",
     "text": [
      "100%|██████████| 4/4 [00:00<00:00, 57653.66it/s]\n"
     ]
    }
   ],
   "source": [
    "%%bash\n",
    "python \"/home/luca/forked_repos/geval/gpt4_eval_async.py\" \\\n",
    "--prompt_fp \"/home/luca/forked_repos/geval/prompts/summeval_finance/con_detailed.txt\" \\\n",
    "--save_fp \"/home/luca/forked_repos/geval/results/con_detailed.json\" \\\n",
    "--summeval_fp \"/home/luca/forked_repos/geval/data/summeval.json\" \\\n",
    "--key $OPENAI_KEY \\\n",
    "--model \"gpt-4o-2024-05-13\""
   ]
  },
  {
   "cell_type": "code",
   "execution_count": 25,
   "metadata": {},
   "outputs": [
    {
     "name": "stderr",
     "output_type": "stream",
     "text": [
      "100%|██████████| 4/4 [00:00<00:00, 69042.04it/s]\n"
     ]
    }
   ],
   "source": [
    "%%bash\n",
    "python \"/home/luca/forked_repos/geval/gpt4_eval_async.py\" \\\n",
    "--prompt_fp \"/home/luca/forked_repos/geval/prompts/summeval_finance/flu_detailed.txt\" \\\n",
    "--save_fp \"/home/luca/forked_repos/geval/results/flu_detailed.json\" \\\n",
    "--summeval_fp \"/home/luca/forked_repos/geval/data/summeval.json\" \\\n",
    "--key $OPENAI_KEY \\\n",
    "--model \"gpt-4o-2024-05-13\""
   ]
  },
  {
   "cell_type": "code",
   "execution_count": 26,
   "metadata": {},
   "outputs": [
    {
     "name": "stderr",
     "output_type": "stream",
     "text": [
      "100%|██████████| 4/4 [00:00<00:00, 66841.50it/s]\n"
     ]
    }
   ],
   "source": [
    "%%bash\n",
    "python \"/home/luca/forked_repos/geval/gpt4_eval_async.py\" \\\n",
    "--prompt_fp \"/home/luca/forked_repos/geval/prompts/summeval_finance/rel_detailed.txt\" \\\n",
    "--save_fp \"/home/luca/forked_repos/geval/results/rel_detailed.json\" \\\n",
    "--summeval_fp \"/home/luca/forked_repos/geval/data/summeval.json\" \\\n",
    "--key $OPENAI_KEY \\\n",
    "--model \"gpt-4o-2024-05-13\""
   ]
  },
  {
   "cell_type": "code",
   "execution_count": 29,
   "metadata": {},
   "outputs": [
    {
     "name": "stdout",
     "output_type": "stream",
     "text": [
      "Calculating correlation for G-Eval\n",
      "len(pred_scores): 1\n",
      "len(human_scores): 1\n",
      "+---------+----------+---------+\n",
      "| Pearson | Spearman | Kendall |\n",
      "+---------+----------+---------+\n",
      "|  0.9809 |  0.9487  |  0.9129 |\n",
      "+---------+----------+---------+\n"
     ]
    }
   ],
   "source": [
    "%%bash\n",
    "python \"/home/luca/forked_repos/geval/meta_eval_summeval.py\" \\\n",
    "--input_fp \"/home/luca/forked_repos/geval/results/coh_detailed.json\" \\\n",
    "--dimension \"coherence\""
   ]
  },
  {
   "cell_type": "code",
   "execution_count": 30,
   "metadata": {},
   "outputs": [
    {
     "name": "stdout",
     "output_type": "stream",
     "text": [
      "Calculating correlation for G-Eval\n",
      "len(pred_scores): 1\n",
      "len(human_scores): 1\n",
      "+---------+----------+---------+\n",
      "| Pearson | Spearman | Kendall |\n",
      "+---------+----------+---------+\n",
      "|  0.9113 |  0.7746  |  0.7071 |\n",
      "+---------+----------+---------+\n"
     ]
    }
   ],
   "source": [
    "%%bash\n",
    "python \"/home/luca/forked_repos/geval/meta_eval_summeval.py\" \\\n",
    "--input_fp \"/home/luca/forked_repos/geval/results/con_detailed.json\" \\\n",
    "--dimension \"consistency\""
   ]
  },
  {
   "cell_type": "code",
   "execution_count": 31,
   "metadata": {},
   "outputs": [
    {
     "name": "stdout",
     "output_type": "stream",
     "text": [
      "Calculating correlation for G-Eval\n",
      "len(pred_scores): 1\n",
      "len(human_scores): 1\n",
      "+---------+----------+---------+\n",
      "| Pearson | Spearman | Kendall |\n",
      "+---------+----------+---------+\n",
      "|  0.5748 |  0.5443  |  0.5164 |\n",
      "+---------+----------+---------+\n"
     ]
    }
   ],
   "source": [
    "%%bash\n",
    "python \"/home/luca/forked_repos/geval/meta_eval_summeval.py\" \\\n",
    "--input_fp \"/home/luca/forked_repos/geval/results/flu_detailed.json\" \\\n",
    "--dimension \"fluency\""
   ]
  },
  {
   "cell_type": "code",
   "execution_count": 32,
   "metadata": {},
   "outputs": [
    {
     "name": "stdout",
     "output_type": "stream",
     "text": [
      "Calculating correlation for G-Eval\n",
      "len(pred_scores): 1\n",
      "len(human_scores): 1\n",
      "+---------+----------+---------+\n",
      "| Pearson | Spearman | Kendall |\n",
      "+---------+----------+---------+\n",
      "|  0.8266 |  0.7746  |  0.7071 |\n",
      "+---------+----------+---------+\n"
     ]
    }
   ],
   "source": [
    "%%bash\n",
    "python \"/home/luca/forked_repos/geval/meta_eval_summeval.py\" \\\n",
    "--input_fp \"/home/luca/forked_repos/geval/results/rel_detailed.json\" \\\n",
    "--dimension \"relevance\""
   ]
  }
 ],
 "metadata": {
  "kernelspec": {
   "display_name": "coding",
   "language": "python",
   "name": "python3"
  },
  "language_info": {
   "codemirror_mode": {
    "name": "ipython",
    "version": 3
   },
   "file_extension": ".py",
   "mimetype": "text/x-python",
   "name": "python",
   "nbconvert_exporter": "python",
   "pygments_lexer": "ipython3",
   "version": "3.10.1"
  }
 },
 "nbformat": 4,
 "nbformat_minor": 2
}
